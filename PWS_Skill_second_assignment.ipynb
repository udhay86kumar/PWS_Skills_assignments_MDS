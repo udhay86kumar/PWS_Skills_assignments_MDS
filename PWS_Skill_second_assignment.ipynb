{
 "cells": [
  {
   "cell_type": "markdown",
   "id": "e683ab7b",
   "metadata": {},
   "source": [
    "## Q1: Create a python program to sort the given a  list of tuples based on integer value using a lambda function\n",
    "['sachin Tendulker', 34357), ('Ricky Ponting', 27483), ('Juk Kolle', 25534), ('Vieth', 34936)]"
   ]
  },
  {
   "cell_type": "code",
   "execution_count": 45,
   "id": "f5ee0a7d",
   "metadata": {},
   "outputs": [],
   "source": [
    "so = [('sachin Tendulker', 34357), ('Ricky Ponting', 27483), ('Juk Kolle', 25534), ('Vieth', 34936)]\n",
    "so.sort(key=lambda x: x[1])"
   ]
  },
  {
   "cell_type": "code",
   "execution_count": 46,
   "id": "a5e846c9",
   "metadata": {},
   "outputs": [
    {
     "data": {
      "text/plain": [
       "[('Juk Kolle', 25534),\n",
       " ('Ricky Ponting', 27483),\n",
       " ('sachin Tendulker', 34357),\n",
       " ('Vieth', 34936)]"
      ]
     },
     "execution_count": 46,
     "metadata": {},
     "output_type": "execute_result"
    }
   ],
   "source": [
    "so"
   ]
  },
  {
   "cell_type": "markdown",
   "id": "92118f2a",
   "metadata": {},
   "source": [
    "## Q2. Write a Python Program to find the squares of all the numbers in the given list of integers using lambda and map functions."
   ]
  },
  {
   "cell_type": "code",
   "execution_count": 92,
   "id": "a970e1e9",
   "metadata": {},
   "outputs": [],
   "source": [
    "x = [1, 2, 3, 4, 5, 6, 7, 8, 9, 10]\n",
    "ls = map(lambda x : x**2,x)"
   ]
  },
  {
   "cell_type": "code",
   "execution_count": 93,
   "id": "b30e0b80",
   "metadata": {},
   "outputs": [
    {
     "data": {
      "text/plain": [
       "[1, 4, 9, 16, 25, 36, 49, 64, 81, 100]"
      ]
     },
     "execution_count": 93,
     "metadata": {},
     "output_type": "execute_result"
    }
   ],
   "source": [
    "[i for i in ls]"
   ]
  },
  {
   "cell_type": "markdown",
   "id": "44f43aed",
   "metadata": {},
   "source": [
    "# Q3. Write a python program to convert the given list of integers into a tuple of strings. Use map and lambda functions\n",
    "\n",
    "Given String: [1, 2, 3, 4, 5, 6, 7, 8, 9, 10]\n",
    "\n",
    "Expected output: ('1', '2', '3', '4', '5', '6', '7', '8', '9', '10')\n"
   ]
  },
  {
   "cell_type": "code",
   "execution_count": 105,
   "id": "8079dbc7",
   "metadata": {},
   "outputs": [
    {
     "name": "stdout",
     "output_type": "stream",
     "text": [
      "('1', '2', '3', '4', '5', '6', '7', '8', '9', '10')\n"
     ]
    }
   ],
   "source": [
    "x = [1, 2, 3, 4, 5, 6, 7, 8, 9, 10]\n",
    "str1 = map(lambda x : str(x),x)\n",
    "a = [i for i in str1]\n",
    "print(tuple(a))"
   ]
  },
  {
   "cell_type": "markdown",
   "id": "01cc5bad",
   "metadata": {},
   "source": [
    "### Q4.  Write a python program using reduce function to compute the product of a list containing numbers from 1 to 25."
   ]
  },
  {
   "cell_type": "code",
   "execution_count": 116,
   "id": "6d1dc05a",
   "metadata": {},
   "outputs": [
    {
     "data": {
      "text/plain": [
       "15511210043330985984000000"
      ]
     },
     "execution_count": 116,
     "metadata": {},
     "output_type": "execute_result"
    }
   ],
   "source": [
    "from functools import reduce\n",
    "numbers = range(1,26)\n",
    "re =  reduce(lambda x,y : x*y ,numbers)\n",
    "re"
   ]
  },
  {
   "cell_type": "markdown",
   "id": "b7973bce",
   "metadata": {},
   "source": [
    "## Q5. Write a python program to filter the numbers in a given list that are divisible by 2 and 3 using the\n",
    "filter function.\n",
    "[2, 3, 6, 9, 27, 60, 90, 120, 55, 46]"
   ]
  },
  {
   "cell_type": "code",
   "execution_count": 126,
   "id": "05b7c902",
   "metadata": {},
   "outputs": [
    {
     "data": {
      "text/plain": [
       "[6, 60, 90, 120]"
      ]
     },
     "execution_count": 126,
     "metadata": {},
     "output_type": "execute_result"
    }
   ],
   "source": [
    "number = [2, 3, 6, 9, 27, 60, 90, 120, 55, 46]\n",
    "list(filter(lambda x : x%2==0 and x%3==0,number))"
   ]
  },
  {
   "cell_type": "markdown",
   "id": "61d3424d",
   "metadata": {},
   "source": [
    "## Q6. Write a python program to find palindromes in the given list of strings using lambda and filter\n",
    "function.\n",
    "['python', 'php', 'aba', 'radar', 'level']"
   ]
  },
  {
   "cell_type": "code",
   "execution_count": 134,
   "id": "7eeea79e",
   "metadata": {},
   "outputs": [
    {
     "data": {
      "text/plain": [
       "['php', 'aba', 'radar', 'level']"
      ]
     },
     "execution_count": 134,
     "metadata": {},
     "output_type": "execute_result"
    }
   ],
   "source": [
    "str1 =  ['python', 'php', 'aba', 'radar', 'level']\n",
    "list(filter(lambda x : x ==  x[::-1],str1))"
   ]
  },
  {
   "cell_type": "code",
   "execution_count": null,
   "id": "a608200e",
   "metadata": {},
   "outputs": [],
   "source": []
  }
 ],
 "metadata": {
  "kernelspec": {
   "display_name": "Python 3 (ipykernel)",
   "language": "python",
   "name": "python3"
  },
  "language_info": {
   "codemirror_mode": {
    "name": "ipython",
    "version": 3
   },
   "file_extension": ".py",
   "mimetype": "text/x-python",
   "name": "python",
   "nbconvert_exporter": "python",
   "pygments_lexer": "ipython3",
   "version": "3.10.9"
  }
 },
 "nbformat": 4,
 "nbformat_minor": 5
}
