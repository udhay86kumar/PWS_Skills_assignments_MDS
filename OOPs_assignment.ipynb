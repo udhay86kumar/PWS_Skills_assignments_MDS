{
 "cells": [
  {
   "cell_type": "markdown",
   "id": "8b991415",
   "metadata": {},
   "source": [
    "## Q1.Explain Class and Object with respect to Object-Oriented Programming.Give a suitable example."
   ]
  },
  {
   "cell_type": "markdown",
   "id": "ac9b6f2f",
   "metadata": {},
   "source": [
    "       In object-oriented programming (OOP), a class is a blueprint or template that defines the attributes (data) and behaviors (methods) that an object of that class will have. It serves as a blueprint for creating objects. An object, on the other hand, is an instance of a class."
   ]
  },
  {
   "cell_type": "code",
   "execution_count": 7,
   "id": "c763aa37",
   "metadata": {},
   "outputs": [
    {
     "name": "stdout",
     "output_type": "stream",
     "text": [
      "udhaya\n",
      "sathishkumar\n",
      "Best Student\n"
     ]
    }
   ],
   "source": [
    "# Class definition\n",
    "class student:\n",
    "    def __init__(self,name):\n",
    "        self.name = name\n",
    "    def student1(self):\n",
    "        print(\"Best Student\")\n",
    "# Creating objects (instances) of the student class\n",
    "object1 = student(\"udhaya\")\n",
    "object2 = student(\"sathishkumar\")\n",
    "# Accessing object attributes\n",
    "print(object1.name)\n",
    "print(object2.name)\n",
    "# Invoking object methods\n",
    "object1.student1()"
   ]
  },
  {
   "cell_type": "markdown",
   "id": "31d2fb12",
   "metadata": {},
   "source": [
    "In the example above, student is a class that defines the attributes (name) and behavior (student1) of a dog. Two objects (object1 and object2) are created from the studnet class, each with its own name. The objects have their own unique state (name) and can perform the same behavior (student1) defined in the class.\n",
    "The class serves as a blueprint, providing a structure and behavior that can be shared among multiple objects. Objects, on the other hand, are individual instances that can have their own specific values for the attributes defined in the class."
   ]
  },
  {
   "cell_type": "markdown",
   "id": "7a651595",
   "metadata": {},
   "source": [
    "## Q2. Name the four pillars of OOPs."
   ]
  },
  {
   "cell_type": "markdown",
   "id": "a9b8c4f7",
   "metadata": {},
   "source": [
    "1.Encapsulation: Bundles data and methods together, ensuring data privacy and code modularity.\n",
    "\n",
    "2.Inheritance: Allows the creation of new classes based on existing classes, promoting code reuse and extension of functionality.\n",
    "\n",
    "3.Polymorphism: Enables objects of different classes to be treated as objects of a common superclass, providing flexibility and reusability.\n",
    "\n",
    "4.Abstraction: Focuses on essential features while hiding unnecessary details, simplifying code understanding and maintenance."
   ]
  },
  {
   "cell_type": "markdown",
   "id": "9fa93a2a",
   "metadata": {},
   "source": [
    "## Q3. Explain why the __init__() function is used. Give a suitable example."
   ]
  },
  {
   "cell_type": "markdown",
   "id": "cc56671b",
   "metadata": {},
   "source": [
    "   The __init__() function is a special method in Python classes that is automatically called when an object of the class is created. It is used to initialize the object's attributes or perform any necessary setup operations. it is particularly useful for assigning values to instance variables, which are unique to each object created from the class. It allows you to provide initial values to these variables when creating objects, ensuring that they are properly initialized."
   ]
  },
  {
   "cell_type": "code",
   "execution_count": 11,
   "id": "be6736c0",
   "metadata": {},
   "outputs": [
    {
     "name": "stdout",
     "output_type": "stream",
     "text": [
      "udhaya\n",
      "sathishkumar\n",
      "Best Student\n"
     ]
    }
   ],
   "source": [
    "#Example\n",
    "# Class definition\n",
    "class student:\n",
    "    def __init__(self,name):\n",
    "        self.name = name\n",
    "    def student1(self):\n",
    "        print(\"Best Student\")\n",
    "# Creating objects (instances) of the student class\n",
    "object1 = student(\"udhaya\")\n",
    "object2 = student(\"sathishkumar\")\n",
    "# Accessing object attributes\n",
    "print(object1.name)\n",
    "print(object2.name)\n",
    "# Invoking object methods\n",
    "object1.student1()"
   ]
  },
  {
   "cell_type": "markdown",
   "id": "4497bbaf",
   "metadata": {},
   "source": [
    "In this example, the __init__() function is used to initialize the name attributes of each object1 and object2 object. When creating a Object1 object, we pass the corresponding values, which are then assigned to the object's attributes."
   ]
  },
  {
   "cell_type": "markdown",
   "id": "ab2462e5",
   "metadata": {},
   "source": [
    "## Q4. Why self is used in OOPs?"
   ]
  },
  {
   "cell_type": "markdown",
   "id": "b23a8caf",
   "metadata": {},
   "source": [
    "object-oriented programming (OOP), self is a convention used to refer to the instance of a class within the class methods. It acts as a reference to the current object or instance on which a method is being called.The use of self allows access to the attributes and methods of the object within the class."
   ]
  },
  {
   "cell_type": "code",
   "execution_count": 17,
   "id": "93f7bc05",
   "metadata": {},
   "outputs": [],
   "source": [
    "class person:\n",
    "    def __init__(self,first_name,last_name):\n",
    "        self.first_name = first_name\n",
    "        self.last_name = last_name\n",
    "    def greet1(self):\n",
    "        print(f\"my name is {self.first_name}{self.last_name}\")"
   ]
  },
  {
   "cell_type": "code",
   "execution_count": 18,
   "id": "c318e316",
   "metadata": {},
   "outputs": [
    {
     "name": "stdout",
     "output_type": "stream",
     "text": [
      "my name is udhaykumar\n"
     ]
    }
   ],
   "source": [
    "p1 = person(\"udhay\",\"kumar\")\n",
    "p1.greet1()"
   ]
  },
  {
   "cell_type": "markdown",
   "id": "8b8dce42",
   "metadata": {},
   "source": [
    " In this example, self is used to refer to the person object itself within the gree1() method. It allows access to the frist_name and last_name attributes of the object using self.first_name and self.last_name"
   ]
  },
  {
   "cell_type": "markdown",
   "id": "beb7edab",
   "metadata": {},
   "source": [
    "## Q5. What is inheritance? Give an example for each type of inheritance."
   ]
  },
  {
   "cell_type": "markdown",
   "id": "e185e056",
   "metadata": {},
   "source": [
    "Inheritance is a fundamental concept in object-oriented programming (OOP) that allows classes to inherit properties and behaviors from other classes. It enables code reuse, promotes modularity, and facilitates the creation of a hierarchy of classes.\n",
    "\n",
    "There are several types of inheritance:\n",
    "               1.single Inheritance\n",
    "               2.Multiple Inheritance\n",
    "               3.Multilevel Inheritance\n",
    "               4.Hierarchical Inheritance\n",
    "\n",
    "1.Single Inheritance: In single inheritance, a class inherits properties and methods from a single parent class.\n",
    "\n",
    "Example:"
   ]
  },
  {
   "cell_type": "code",
   "execution_count": 28,
   "id": "65bc7772",
   "metadata": {},
   "outputs": [],
   "source": [
    "class student:\n",
    "    def best_student(self):\n",
    "        print(\"Best student\")\n",
    "class student1(student):\n",
    "    def low_student(self):\n",
    "        print(\"low level_student\")"
   ]
  },
  {
   "cell_type": "code",
   "execution_count": 31,
   "id": "50667d90",
   "metadata": {},
   "outputs": [
    {
     "name": "stdout",
     "output_type": "stream",
     "text": [
      "Best student\n",
      "low level_student\n"
     ]
    }
   ],
   "source": [
    "ob = student1()\n",
    "ob.best_student()\n",
    "ob.low_student()"
   ]
  },
  {
   "cell_type": "markdown",
   "id": "aca25351",
   "metadata": {},
   "source": [
    "Multiple Inheritance:\n",
    "\n",
    "          Multiple inheritance allows a class to inherit properties and methods from multiple parent classes.\n",
    "          \n",
    "Example:"
   ]
  },
  {
   "cell_type": "code",
   "execution_count": 32,
   "id": "01941a28",
   "metadata": {},
   "outputs": [
    {
     "name": "stdout",
     "output_type": "stream",
     "text": [
      "Eating...\n",
      "Walking...\n",
      "Barking...\n"
     ]
    }
   ],
   "source": [
    "class Animal:\n",
    "    def eat(self):\n",
    "        print(\"Eating...\")\n",
    "\n",
    "class Mammal:\n",
    "    def walk(self):\n",
    "        print(\"Walking...\")\n",
    "\n",
    "class Dog(Animal, Mammal):\n",
    "    def bark(self):\n",
    "        print(\"Barking...\")\n",
    "\n",
    "# Dog inherits 'eat' from Animal and 'walk' from Mammal\n",
    "dog = Dog()\n",
    "dog.eat()  \n",
    "dog.walk() \n",
    "dog.bark() "
   ]
  },
  {
   "cell_type": "markdown",
   "id": "bbed82b6",
   "metadata": {},
   "source": [
    "Multilevel Inheritance: Multilevel inheritance involves a class inheriting from a derived class, creating a hierarchy of classes.\n",
    "\n",
    "Example:"
   ]
  },
  {
   "cell_type": "code",
   "execution_count": 33,
   "id": "c22d11b0",
   "metadata": {},
   "outputs": [
    {
     "name": "stdout",
     "output_type": "stream",
     "text": [
      "Eating...\n",
      "Walking...\n",
      "Barking...\n"
     ]
    }
   ],
   "source": [
    "class Animal:\n",
    "    def eat(self):\n",
    "        print(\"Eating...\")\n",
    "\n",
    "class Mammal(Animal):\n",
    "    def walk(self):\n",
    "        print(\"Walking...\")\n",
    "\n",
    "class Dog(Mammal):\n",
    "    def bark(self):\n",
    "        print(\"Barking...\")\n",
    "\n",
    "# Dog inherits 'eat' from Animal and 'walk' from Mammal\n",
    "dog = Dog()\n",
    "dog.eat()  \n",
    "dog.walk() \n",
    "dog.bark() "
   ]
  },
  {
   "cell_type": "markdown",
   "id": "2f467b3b",
   "metadata": {},
   "source": [
    "Hierarchical Inheritance: Hierarchical inheritance occurs when multiple classes inherit from a single parent class.\n",
    "\n",
    "Example:"
   ]
  },
  {
   "cell_type": "code",
   "execution_count": 34,
   "id": "4e71f05b",
   "metadata": {},
   "outputs": [
    {
     "name": "stdout",
     "output_type": "stream",
     "text": [
      "Eating...\n",
      "Barking...\n",
      "Eating...\n",
      "Meowing...\n"
     ]
    }
   ],
   "source": [
    "class Animal:\n",
    "    def eat(self):\n",
    "        print(\"Eating...\")\n",
    "\n",
    "class Dog(Animal):\n",
    "    def bark(self):\n",
    "        print(\"Barking...\")\n",
    "\n",
    "class Cat(Animal):\n",
    "    def meow(self):\n",
    "        print(\"Meowing...\")\n",
    "\n",
    "# Both Dog and Cat inherit 'eat' from Animal\n",
    "dog = Dog()\n",
    "dog.eat()  \n",
    "dog.bark() \n",
    "\n",
    "cat = Cat()\n",
    "cat.eat()  \n",
    "cat.meow() "
   ]
  },
  {
   "cell_type": "code",
   "execution_count": null,
   "id": "04b58d3d",
   "metadata": {},
   "outputs": [],
   "source": []
  }
 ],
 "metadata": {
  "kernelspec": {
   "display_name": "Python 3 (ipykernel)",
   "language": "python",
   "name": "python3"
  },
  "language_info": {
   "codemirror_mode": {
    "name": "ipython",
    "version": 3
   },
   "file_extension": ".py",
   "mimetype": "text/x-python",
   "name": "python",
   "nbconvert_exporter": "python",
   "pygments_lexer": "ipython3",
   "version": "3.10.9"
  }
 },
 "nbformat": 4,
 "nbformat_minor": 5
}
