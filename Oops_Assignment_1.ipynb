{
 "cells": [
  {
   "cell_type": "markdown",
   "id": "7d1b2230",
   "metadata": {},
   "source": [
    "## Q1, Create a vehicle class with an init method having instance variables as name_of_vehicle, max_speed and average_of_vehicle."
   ]
  },
  {
   "cell_type": "code",
   "execution_count": 4,
   "id": "8e1a8f12",
   "metadata": {},
   "outputs": [],
   "source": [
    "class vehicle:\n",
    "    def __init__(self,name_of_vehicle,max_speed,average_of_vehicle):\n",
    "        self.name_of_vehicle = name_of_vehicle\n",
    "        self.max_speed = max_speed\n",
    "        self.average_of_vehicle = average_of_vehicle"
   ]
  },
  {
   "cell_type": "markdown",
   "id": "a5629b37",
   "metadata": {},
   "source": [
    "## Q2. Create a child class car from the vehicle class created in Que 1, which will inherit the vehicle class. Create a method named seating_capacity which takes capacity as an argument and returns the name of the vehicle and its seating capacity."
   ]
  },
  {
   "cell_type": "code",
   "execution_count": 10,
   "id": "56d07f69",
   "metadata": {},
   "outputs": [
    {
     "name": "stdout",
     "output_type": "stream",
     "text": [
      "BMW has a seating capacity 4\n"
     ]
    }
   ],
   "source": [
    "class vehicle:\n",
    "    def __init__(self,name_of_vehicle,max_speed,average_of_vehicle):\n",
    "        self.name_of_vehicle = name_of_vehicle\n",
    "        self.max_speed = max_speed\n",
    "        self.average_of_vehicle = average_of_vehicle\n",
    "class car(vehicle):\n",
    "    def seating_capacity(self,capacity):\n",
    "        return f\"{self.name_of_vehicle} has a seating capacity {capacity}\"\n",
    "car1 = car(\"BMW\",'200km',\"7\")\n",
    "result = car1.seating_capacity(4)\n",
    "print(result)\n"
   ]
  },
  {
   "cell_type": "markdown",
   "id": "ebae0bf1",
   "metadata": {},
   "source": [
    "# Q3. What is multiple inheritance? Write a python code to demonstrate multiple inheritance."
   ]
  },
  {
   "cell_type": "markdown",
   "id": "c86341f3",
   "metadata": {},
   "source": [
    "Multiple inheritance is a feature in object-oriented programming where a class can inherit attributes and methods from more than one parent class. This allows a child class to have characteristics from multiple parent classes."
   ]
  },
  {
   "cell_type": "code",
   "execution_count": 26,
   "id": "d0d3f3a6",
   "metadata": {},
   "outputs": [
    {
     "name": "stdout",
     "output_type": "stream",
     "text": [
      "Name of bus Red_bus\n",
      "Name of car BMW\n"
     ]
    }
   ],
   "source": [
    "class vehicle:\n",
    "    def __init__(self,name_of_vehicle):\n",
    "        self.name_of_vehicle = name_of_vehicle\n",
    "class car:\n",
    "    def car1(self,car):\n",
    "        return f\"Name of car {car}\"\n",
    "class bus(vehicle,car):\n",
    "     def bus1_name(self,bus):\n",
    "        return f\"Name of bus {bus}\"\n",
    "v = bus(\"Red\")\n",
    "result1 = v.bus1_name(\"Red_bus\")\n",
    "result2 = v.car1(\"BMW\")\n",
    "print(result1)\n",
    "print(result2)"
   ]
  },
  {
   "cell_type": "markdown",
   "id": "e93d9a6f",
   "metadata": {},
   "source": [
    "# Q4. What are getter and setter in python? Create a class and create a getter and a setter method in this class."
   ]
  },
  {
   "cell_type": "markdown",
   "id": "5e08747d",
   "metadata": {},
   "source": [
    " getter and setter methods are used to access and modify the attributes of a class in a controlled manner. They provide an interface to retrieve and update the values of class attributes, allowing encapsulation and data abstraction"
   ]
  },
  {
   "cell_type": "code",
   "execution_count": 33,
   "id": "2f281f8b",
   "metadata": {},
   "outputs": [
    {
     "name": "stdout",
     "output_type": "stream",
     "text": [
      "John Doe\n",
      "Jane Smith\n",
      "25\n",
      "25\n"
     ]
    }
   ],
   "source": [
    "class Person:\n",
    "    def __init__(self, name, age):\n",
    "        self._name = name\n",
    "        self._age = age\n",
    "\n",
    "    # Getter method for name attribute\n",
    "    def get_name(self):\n",
    "        return self._name\n",
    "\n",
    "    # Setter method for name attribute\n",
    "    def set_name(self, name):\n",
    "        self._name = name\n",
    "\n",
    "    # Getter method for age attribute\n",
    "    def get_age(self):\n",
    "        return self._age\n",
    "\n",
    "    # Setter method for age attribute\n",
    "    def set_age(self, age):\n",
    "        if age > 0:\n",
    "            self._age = age\n",
    "\n",
    "\n",
    "person = Person(\"John Doe\", 25)\n",
    "\n",
    "print(person.get_name()) \n",
    "# Set a new name using the setter method\n",
    "person.set_name(\"Jane Smith\")\n",
    "print(person.get_name())  \n",
    "print(person.get_age())  \n",
    "person.set_age(-10)\n",
    "print(person.get_age())  \n"
   ]
  },
  {
   "cell_type": "markdown",
   "id": "3da14f37",
   "metadata": {},
   "source": [
    "we have a Person class with attributes name and age. The class provides getter and setter methods for each attribute. The getter methods (get_name() and get_age()) are used to retrieve the values of the attributes, while the setter methods (set_name() and set_age()) are used to modify the values of the attributes. The setter methods can also include validation logic to ensure that the values being set are valid..."
   ]
  },
  {
   "cell_type": "markdown",
   "id": "dbfdfad5",
   "metadata": {},
   "source": [
    "## Q5.What is method overriding in python? Write a python code to demonstrate method overriding."
   ]
  },
  {
   "cell_type": "markdown",
   "id": "16f3dbad",
   "metadata": {},
   "source": [
    "Method overriding in Python refers to the ability of a subclass to provide a different implementation of a method that is already defined in its superclass. It allows the subclass to modify the behavior of the inherited method according to its specific needs."
   ]
  },
  {
   "cell_type": "code",
   "execution_count": 39,
   "id": "81ee8ce0",
   "metadata": {},
   "outputs": [
    {
     "name": "stdout",
     "output_type": "stream",
     "text": [
      "BMW\n",
      "Audi\n",
      "suzuki\n"
     ]
    }
   ],
   "source": [
    "class vehicle:\n",
    "    def car(self):\n",
    "        return \"BMW\"\n",
    "class vehile1:\n",
    "    def car(self):\n",
    "        return \"Audi\"\n",
    "class vehicle2:\n",
    "    def car(self):\n",
    "        return \"suzuki\"\n",
    "#initlize the object on class\n",
    "v1 = vehicle()\n",
    "#print first car method\n",
    "print(v1.car())\n",
    "v2 = vehile1()\n",
    "#print second car method\n",
    "print(v2.car())\n",
    "v3 =vehicle2()\n",
    "#print Third car method\n",
    "print(v3.car())"
   ]
  },
  {
   "cell_type": "code",
   "execution_count": null,
   "id": "95e9f5cc",
   "metadata": {},
   "outputs": [],
   "source": []
  }
 ],
 "metadata": {
  "kernelspec": {
   "display_name": "Python 3 (ipykernel)",
   "language": "python",
   "name": "python3"
  },
  "language_info": {
   "codemirror_mode": {
    "name": "ipython",
    "version": 3
   },
   "file_extension": ".py",
   "mimetype": "text/x-python",
   "name": "python",
   "nbconvert_exporter": "python",
   "pygments_lexer": "ipython3",
   "version": "3.10.9"
  }
 },
 "nbformat": 4,
 "nbformat_minor": 5
}
