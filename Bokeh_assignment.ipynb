{
  "nbformat": 4,
  "nbformat_minor": 0,
  "metadata": {
    "colab": {
      "provenance": []
    },
    "kernelspec": {
      "name": "python3",
      "display_name": "Python 3"
    },
    "language_info": {
      "name": "python"
    }
  },
  "cells": [
    {
      "cell_type": "markdown",
      "source": [
        "## Q1. How can you create a Bokeh plot using Python code?\n",
        "\n",
        "To create a Bokeh plot using Python code, you'll need to follow these steps:\n",
        "\n",
        "Import the Necessary Modules: Import the required modules from the Bokeh library. Bokeh provides various functions and tools to create different types of plots and visualizations.\n",
        "\n",
        "Prepare Your Data: Load or generate the data you want to visualize. Bokeh plots typically require data in the form of Pandas DataFrames, NumPy arrays, or other similar data structures.\n",
        "\n",
        "Create a Figure: Use the figure function to create a new figure object. This is the canvas where you'll add your visual elements like glyphs, annotations, and axes.\n",
        "\n",
        "Add Glyphs and Customizations: Add glyphs (visual elements) to the figure using methods like circle, line, rect, etc. Customize the plot appearance by specifying attributes like colors, sizes, and styles.\n",
        "\n",
        "Add Axes and Titles: Customize the axes by adding labels, tick marks, and other properties. You can also add titles, legends, and annotations to enhance the plot's readability.\n",
        "\n",
        "Show or Save the Plot: Once you've configured the figure and added all necessary components, use the show function to display the plot in a browser window. You can also use the save function to save the plot to an HTML file."
      ],
      "metadata": {
        "id": "XaH-xgDHSkdd"
      }
    },
    {
      "cell_type": "markdown",
      "source": [
        "## Q2. What are glyphs in Bokeh, and how can you add them to a Bokeh plot? Explain with an example.\n",
        "In Bokeh, glyphs are the basic visual building blocks used to create different types of data visualizations. Glyphs represent individual data points or elements on a plot, such as circles, lines, rectangles, bars, and more. By combining multiple glyphs, you can create complex visualizations that convey insights from your data.\n",
        "\n",
        "To add glyphs to a Bokeh plot, you generally follow these steps:\n",
        "\n",
        "Create a Figure: Use the figure function to create a new figure, which serves as the canvas for your plot.\n",
        "\n",
        "Add Glyphs: Use glyph methods like circle, line, rect, bar, etc., to add glyphs to the figure. These methods accept data arrays and parameters to customize the appearance of the glyphs.\n",
        "\n",
        "Customize Glyphs: Adjust glyph attributes like size, color, transparency, and line styles using keyword arguments.\n",
        "\n",
        "Show or Save the Plot: Once you've configured the figure and added the desired glyphs, use the show function to display the plot in a browser window or the save function to save it to an HTML file.\n",
        "\n",
        "Here's an example of adding glyphs to a Bokeh scatter plot using the circle glyph method:"
      ],
      "metadata": {
        "id": "ek1v68QBSx5y"
      }
    },
    {
      "cell_type": "code",
      "source": [
        "from bokeh.plotting import figure, show\n",
        "import numpy as np\n",
        "\n",
        "# Prepare data\n",
        "x = np.random.random(100)\n",
        "y = np.random.random(100)\n",
        "\n",
        "# Create a figure\n",
        "p = figure(title=\"Bokeh Scatter Plot\")\n",
        "\n",
        "# Add circle glyphs\n",
        "p.circle(x, y, size=8, color=\"navy\", alpha=0.6)\n",
        "\n",
        "# Customize the plot\n",
        "p.xaxis.axis_label = \"X-axis\"\n",
        "p.yaxis.axis_label = \"Y-axis\"\n",
        "\n",
        "# Show the plot\n",
        "show(p)"
      ],
      "metadata": {
        "id": "kQL3Sds3TOSw"
      },
      "execution_count": 4,
      "outputs": []
    },
    {
      "cell_type": "markdown",
      "source": [
        "## Q3. How can you customize the appearance of a Bokeh plot, including the axes, title, and legend?"
      ],
      "metadata": {
        "id": "8TBrbtNlSyAK"
      }
    },
    {
      "cell_type": "markdown",
      "source": [
        "You can customize the appearance of a Bokeh plot, including the axes, title, and legend, by using various attributes and methods provided by the figure object and other relevant components. Here's a breakdown of how you can achieve this:"
      ],
      "metadata": {
        "id": "D0JI07_NSyKA"
      }
    },
    {
      "cell_type": "markdown",
      "source": [
        "Customizing Axes:\n",
        "\n",
        "You can customize axis labels, tick labels, ranges, grid lines, and other properties using attributes of the xaxis and yaxis objects of the figure:"
      ],
      "metadata": {
        "id": "8P-Vdtc-VS_7"
      }
    },
    {
      "cell_type": "code",
      "source": [
        "p.xaxis.axis_label = \"X-axis Label\"\n",
        "p.yaxis.axis_label = \"Y-axis Label\"\n",
        "p.xaxis.major_label_orientation = \"vertical\"\n",
        "p.yaxis.major_label_text_color = \"red\"\n",
        "p.xgrid.grid_line_color = \"gray\""
      ],
      "metadata": {
        "id": "fFxWpoOJVTQU"
      },
      "execution_count": 5,
      "outputs": []
    },
    {
      "cell_type": "markdown",
      "source": [
        "Customizing Title:\n",
        "\n",
        "You can customize the plot title using the title attribute of the figure:\n"
      ],
      "metadata": {
        "id": "1IQXYb67VerM"
      }
    },
    {
      "cell_type": "code",
      "source": [
        "p.title.text = \"Custom Title\"\n",
        "p.title.text_color = \"blue\"\n",
        "p.title.text_font_size = \"20pt\""
      ],
      "metadata": {
        "id": "WLtAJ3taVe6k"
      },
      "execution_count": 6,
      "outputs": []
    },
    {
      "cell_type": "markdown",
      "source": [
        "Customizing Legend:\n",
        "\n",
        "You can customize the legend by assigning it a name using the legend attribute of the relevant glyph method:"
      ],
      "metadata": {
        "id": "wpthpU-MVrot"
      }
    },
    {
      "cell_type": "code",
      "source": [
        "p.circle(x, y, size=8, color=\"navy\", alpha=0.6, legend_label=\"Data Points\")\n",
        "show(p)"
      ],
      "metadata": {
        "id": "EsBJaBMsVr0d"
      },
      "execution_count": 8,
      "outputs": []
    },
    {
      "cell_type": "markdown",
      "source": [
        "## Q4. What is a Bokeh server, and how can you use it to create interactive plots that can be updated in real time?\n",
        "\n",
        "A Bokeh server is a Python library and framework that allows you to create interactive web applications with real-time updates using Bokeh visualizations. It enables you to build dynamic, data-driven applications that respond to user interactions and changes in the underlying data without requiring the user to refresh the web page.\n",
        "\n",
        "With the Bokeh server, you can create applications that combine Bokeh plots, widgets, and user interactions to provide a rich and interactive experience for exploring and analyzing data. These applications can be deployed on a web server, allowing multiple users to interact with the plots and visualizations simultaneously.\n",
        "\n",
        "Here's how you can use the Bokeh server to create interactive plots that can be updated in real time:"
      ],
      "metadata": {
        "id": "IHexyAvxV4FJ"
      }
    },
    {
      "cell_type": "markdown",
      "source": [
        "Install Bokeh:\n",
        "Make sure you have Bokeh installed. You can install it using the following command:\n",
        "### pip install bokeh\n",
        "Create a Bokeh Server Application:\n",
        "To create a Bokeh server application, you need to define a Python script that specifies the layout, plots, widgets, and interactions. This script is similar to creating standalone Bokeh plots but with the added ability to define callbacks that respond to user interactions and data updates.\n",
        "\n",
        "Define Callbacks:\n",
        "Callbacks are Python functions that define how the application should respond to user interactions or changes in data. You can attach callbacks to widgets, events, and interactions to update the visual elements in the application dynamically.\n",
        "\n",
        "Start the Bokeh Server:\n",
        "To run the Bokeh server and launch your application, use the following command in your terminal:\n",
        "###bokeh serve your_app.py\n",
        "Access the Application:\n",
        "After starting the Bokeh server, you can access the application by opening a web browser and navigating to the provided URL. The URL typically includes the name of your script and the port number.\n",
        "\n",
        "Interact and Update:\n",
        "Once the application is running in the web browser, you can interact with widgets, select data points, change parameters, and trigger events. The callbacks you defined will update the visual elements in real time based on the interactions and data changes."
      ],
      "metadata": {
        "id": "0Lglil-5V4Le"
      }
    },
    {
      "cell_type": "code",
      "source": [
        "from bokeh.plotting import curdoc, figure,column\n",
        "from bokeh.models import Slider\n",
        "import numpy as np\n",
        "\n",
        "# Create initial data\n",
        "x = np.random.random(size=10)\n",
        "y = np.random.random(size=10)\n",
        "\n",
        "# Create a figure and scatter plot\n",
        "plot = figure()\n",
        "scatter = plot.circle(x, y)\n",
        "\n",
        "# Create a slider\n",
        "slider = Slider(start=10, end=100, step=10, value=10, title=\"Number of Data Points\")\n",
        "\n",
        "# Define a callback function\n",
        "def update_points(attr, old, new):\n",
        "    num_points = slider.value\n",
        "    x_new = np.random.random(size=num_points)\n",
        "    y_new = np.random.random(size=num_points)\n",
        "    scatter.data_source.data = {'x': x_new, 'y': y_new}\n",
        "\n",
        "# Attach the callback to the slider\n",
        "slider.on_change('value', update_points)\n",
        "\n",
        "# Create a layout\n",
        "layout = column(slider, plot)\n",
        "\n",
        "# Add the layout to the current document\n",
        "curdoc().add_root(layout)\n"
      ],
      "metadata": {
        "id": "RZaqB19-W5uU"
      },
      "execution_count": 10,
      "outputs": []
    },
    {
      "cell_type": "markdown",
      "source": [
        "## Q5. How can you embed a Bokeh plot into a web page or dashboard using Flask or Django?\n",
        "\n",
        "Embedding a Bokeh plot into a web page or dashboard using Flask or Django involves integrating the Bokeh plot into the HTML templates of these web frameworks. Both Flask and Django are popular Python web frameworks, and the process of embedding Bokeh plots into their templates is similar. Below, I'll provide an overview of how you can achieve this using both Flask and Django:\n",
        "\n",
        "Embedding Bokeh Plot in Flask:\n",
        "Install Dependencies:\n",
        "Make sure you have Flask and Bokeh installed. If not, you can install them using:\n",
        "\n",
        "### pip install Flask bokeh\n",
        "Create Flask App:\n",
        "Create a Flask app and configure routes in your main .py file. Here's a simple\n",
        "Embedding Bokeh Plot in Django:\n",
        "Install Dependencies:\n",
        "Make sure you have Django and Bokeh installed. If not, you can install them using:\n",
        "\n",
        "\n"
      ],
      "metadata": {
        "id": "NzkP2zBUX7aO"
      }
    },
    {
      "cell_type": "code",
      "source": [
        "#example:\n",
        "from flask import Flask, render_template\n",
        "from bokeh.embed import components\n",
        "from bokeh.plotting import figure\n",
        "import numpy as np\n",
        "\n",
        "app = Flask(__name__)\n",
        "\n",
        "@app.route('/')\n",
        "def index():\n",
        "    x = np.linspace(0, 2 * np.pi, 100)\n",
        "    y = np.sin(x)\n",
        "    plot = figure(title=\"Bokeh Plot Example\", x_axis_label=\"X-axis\", y_axis_label=\"Y-axis\")\n",
        "    plot.line(x, y)\n",
        "    script, div = components(plot)\n",
        "    return render_template('index.html', script=script, div=div)\n",
        "\n",
        "if __name__ == '__main__':\n",
        "    app.run(debug=True)\n"
      ],
      "metadata": {
        "colab": {
          "base_uri": "https://localhost:8080/"
        },
        "id": "gn2pqwqwYUli",
        "outputId": "3ae00e6c-3110-4d7c-89df-29391c797a00"
      },
      "execution_count": 12,
      "outputs": [
        {
          "output_type": "stream",
          "name": "stdout",
          "text": [
            " * Serving Flask app '__main__'\n",
            " * Debug mode: on\n"
          ]
        },
        {
          "output_type": "stream",
          "name": "stderr",
          "text": [
            "INFO:werkzeug:\u001b[31m\u001b[1mWARNING: This is a development server. Do not use it in a production deployment. Use a production WSGI server instead.\u001b[0m\n",
            " * Running on http://127.0.0.1:5000\n",
            "INFO:werkzeug:\u001b[33mPress CTRL+C to quit\u001b[0m\n",
            "INFO:werkzeug: * Restarting with stat\n"
          ]
        }
      ]
    },
    {
      "cell_type": "code",
      "source": [
        "\"\"\"<!DOCTYPE html>\n",
        "<html>\n",
        "<head>\n",
        "    <title>Bokeh Plot</title>\n",
        "    {{ script|safe }}\n",
        "</head>\n",
        "<body>\n",
        "    <h1>Bokeh Plot Example</h1>\n",
        "    {{ div|safe }}\n",
        "</body>\n",
        "</html>\"\"\"\n",
        "#Run Flask App:\n",
        "#Run the Flask app using:\n",
        "#The Bokeh plot will be embedded in the HTML template and displayed on the route specified in the Flask app (http://127.0.0.1:5000/ by default).\n"
      ],
      "metadata": {
        "id": "r_XKDXLgYbnA"
      },
      "execution_count": null,
      "outputs": []
    },
    {
      "cell_type": "markdown",
      "source": [
        "### pip install Django bokeh\n",
        "Create Django Project and App:\n",
        "Create a Django project and an app. Configure the routes and views in the app's views.py file.\n",
        "\n",
        "Create View and Template:\n",
        "In your app's views.py, create a view that generates the Bokeh plot and passes it to a template. Here's an example:"
      ],
      "metadata": {
        "id": "izQU74MCZj9j"
      }
    },
    {
      "cell_type": "code",
      "source": [
        "from django.shortcuts import render\n",
        "from bokeh.embed import components\n",
        "from bokeh.plotting import figure\n",
        "import numpy as np\n",
        "\n",
        "def bokeh_plot(request):\n",
        "    x = np.linspace(0, 2 * np.pi, 100)\n",
        "    y = np.sin(x)\n",
        "    plot = figure(title=\"Bokeh Plot Example\", x_axis_label=\"X-axis\", y_axis_label=\"Y-axis\")\n",
        "    plot.line(x, y)\n",
        "    script, div = components(plot)\n",
        "    return render(request, 'bokeh_plot.html', {'script': script, 'div': div})\n",
        "#Create Template:\n",
        "#In your app's templates folder, create an HTML template (bokeh_plot.html) to render the Bokeh plot:\n",
        "\n",
        "\"\"\"<!DOCTYPE html>\n",
        "<html>\n",
        "<head>\n",
        "    <title>Bokeh Plot</title>\n",
        "    {{ script|safe }}\n",
        "</head>\n",
        "<body>\n",
        "    <h1>Bokeh Plot Example</h1>\n",
        "    {{ div|safe }}\n",
        "</body>\n",
        "</html>\"\"\"\n",
        "\n",
        "\n",
        "\n"
      ],
      "metadata": {
        "id": "7RNcvbcJZb7c"
      },
      "execution_count": null,
      "outputs": []
    },
    {
      "cell_type": "markdown",
      "source": [
        "Configure URLs:\n",
        "In your app's urls.py, configure the URL pattern for the Bokeh plot view:"
      ],
      "metadata": {
        "id": "RGfK-gEcZ5UT"
      }
    },
    {
      "cell_type": "code",
      "source": [
        "from django.urls import path\n",
        "from . import views\n",
        "\n",
        "urlpatterns = [\n",
        "    path('bokeh-plot/', views.bokeh_plot, name='bokeh_plot'),\n",
        "]"
      ],
      "metadata": {
        "id": "XXtCK5VnZ9Al"
      },
      "execution_count": null,
      "outputs": []
    },
    {
      "cell_type": "markdown",
      "source": [
        "Run Django Development Server:\n",
        "Run the Django development server using:\n",
        "\n",
        "\n",
        "python manage.py runserver\n",
        "The Bokeh plot will be embedded in the HTML template and displayed on the URL pattern specified in your Django app (http://127.0.0.1:8000/bokeh-plot/ by default).\n",
        "\n",
        "In both cases, the components function from the Bokeh library is used to generate JavaScript and HTML code for embedding the plot in the template. The script variable contains the JavaScript code required to render the plot, and the div variable contains the HTML code for the plot's container.\n",
        "\n",
        "By following these steps, you can easily embed Bokeh plots into web pages or dashboards created using Flask or Django."
      ],
      "metadata": {
        "id": "HgfNP3gzaH1h"
      }
    },
    {
      "cell_type": "markdown",
      "source": [],
      "metadata": {
        "id": "6SB95cqUaK6z"
      }
    }
  ]
}