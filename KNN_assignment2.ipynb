{
  "nbformat": 4,
  "nbformat_minor": 0,
  "metadata": {
    "colab": {
      "provenance": []
    },
    "kernelspec": {
      "name": "python3",
      "display_name": "Python 3"
    },
    "language_info": {
      "name": "python"
    }
  },
  "cells": [
    {
      "cell_type": "code",
      "execution_count": null,
      "metadata": {
        "id": "lf0qx2VWTGTJ"
      },
      "outputs": [],
      "source": []
    },
    {
      "cell_type": "markdown",
      "source": [
        "Q1: Euclidean vs. Manhattan Distance\n",
        "\n",
        "Explanation of Euclidean and Manhattan distance metrics.\n",
        "Code snippets to demonstrate the effect of each distance metric on a KNN classifier and regressor.\n",
        "\n",
        "Q2: Choosing Optimal K Value\n",
        "\n",
        "Explanation of the significance of K in KNN.\n",
        "Code to show how to use cross-validation and the elbow method to find the optimal K.\n",
        "\n",
        "Q3: Effect of Distance Metric on Performance\n",
        "\n",
        "Discussion on how different distance metrics impact KNN.\n",
        "Code example to compare metrics (e.g., Euclidean vs. Manhattan) in different scenarios.\n",
        "\n",
        "Q4: Common Hyperparameters\n",
        "\n",
        "Explanation of K, distance metric, and weight options.\n",
        "Code example using GridSearchCV to tune these hyperparameters.\n",
        "\n",
        "\n",
        "Q5: Impact of Training Set Size\n",
        "\n",
        "Explanation of how training set size affects KNN.\n",
        "Code to show performance changes with increasing dataset size.\n",
        "\n",
        "Q6: Drawbacks of KNN and Solutions\n",
        "\n",
        "Explanation of computational complexity, sensitivity to outliers, and dimensionality issues.\n",
        "Code demonstrating techniques like dimensionality reduction with PCA to improve performance."
      ],
      "metadata": {
        "id": "YnbFVQsOTG5e"
      }
    }
  ]
}