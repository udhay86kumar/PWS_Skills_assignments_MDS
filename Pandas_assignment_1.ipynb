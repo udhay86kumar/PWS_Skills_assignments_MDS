{
 "cells": [
  {
   "cell_type": "markdown",
   "id": "0de44e8c",
   "metadata": {},
   "source": [
    "## Q1. Create a Pandas Series that contains the following data: 4, 8, 15, 16, 23, and 42. Then, print the series."
   ]
  },
  {
   "cell_type": "code",
   "execution_count": 4,
   "id": "c346a959",
   "metadata": {},
   "outputs": [
    {
     "data": {
      "text/plain": [
       "0     4\n",
       "1     8\n",
       "2    15\n",
       "3    16\n",
       "4    23\n",
       "5    42\n",
       "dtype: int64"
      ]
     },
     "execution_count": 4,
     "metadata": {},
     "output_type": "execute_result"
    }
   ],
   "source": [
    "import pandas as pd\n",
    "series = pd.Series([4,8,15,16,23,42])\n",
    "series"
   ]
  },
  {
   "cell_type": "markdown",
   "id": "f1d1eb48",
   "metadata": {},
   "source": [
    "## Q2. Create a variable of list type containing 10 elements in it, and apply pandas.Series function on the variable print it."
   ]
  },
  {
   "cell_type": "code",
   "execution_count": 5,
   "id": "f308dcac",
   "metadata": {},
   "outputs": [
    {
     "data": {
      "text/plain": [
       "0     1\n",
       "1     2\n",
       "2     3\n",
       "3     4\n",
       "4     5\n",
       "5     6\n",
       "6     7\n",
       "7     8\n",
       "8     9\n",
       "9    10\n",
       "dtype: int64"
      ]
     },
     "execution_count": 5,
     "metadata": {},
     "output_type": "execute_result"
    }
   ],
   "source": [
    "import pandas as pd\n",
    "series = pd.Series(list(range(1,11)))\n",
    "series"
   ]
  },
  {
   "cell_type": "markdown",
   "id": "95f3da4a",
   "metadata": {},
   "source": [
    "## Q3. Create a Pandas DataFrame that contains the following data:"
   ]
  },
  {
   "cell_type": "code",
   "execution_count": 9,
   "id": "8fe100b7",
   "metadata": {},
   "outputs": [
    {
     "data": {
      "text/html": [
       "<div>\n",
       "<style scoped>\n",
       "    .dataframe tbody tr th:only-of-type {\n",
       "        vertical-align: middle;\n",
       "    }\n",
       "\n",
       "    .dataframe tbody tr th {\n",
       "        vertical-align: top;\n",
       "    }\n",
       "\n",
       "    .dataframe thead th {\n",
       "        text-align: right;\n",
       "    }\n",
       "</style>\n",
       "<table border=\"1\" class=\"dataframe\">\n",
       "  <thead>\n",
       "    <tr style=\"text-align: right;\">\n",
       "      <th></th>\n",
       "      <th>Name</th>\n",
       "      <th>Age</th>\n",
       "      <th>Gender</th>\n",
       "    </tr>\n",
       "  </thead>\n",
       "  <tbody>\n",
       "    <tr>\n",
       "      <th>0</th>\n",
       "      <td>Alice</td>\n",
       "      <td>25</td>\n",
       "      <td>Female</td>\n",
       "    </tr>\n",
       "    <tr>\n",
       "      <th>1</th>\n",
       "      <td>Bob</td>\n",
       "      <td>30</td>\n",
       "      <td>Male</td>\n",
       "    </tr>\n",
       "    <tr>\n",
       "      <th>2</th>\n",
       "      <td>Claire</td>\n",
       "      <td>27</td>\n",
       "      <td>Female</td>\n",
       "    </tr>\n",
       "  </tbody>\n",
       "</table>\n",
       "</div>"
      ],
      "text/plain": [
       "     Name  Age  Gender\n",
       "0   Alice   25  Female\n",
       "1     Bob   30    Male\n",
       "2  Claire   27  Female"
      ]
     },
     "execution_count": 9,
     "metadata": {},
     "output_type": "execute_result"
    }
   ],
   "source": [
    "import pandas as pd\n",
    "data = {'Name':['Alice','Bob','Claire'],\n",
    "        'Age':[25,30,27],\n",
    "        'Gender':['Female','Male','Female']}\n",
    "df = pd.DataFrame(data)\n",
    "df"
   ]
  },
  {
   "cell_type": "markdown",
   "id": "16762fcd",
   "metadata": {},
   "source": [
    "## Q4. What is ‘DataFrame’ in pandas and how is it different from pandas.series? Explain with an example."
   ]
  },
  {
   "cell_type": "markdown",
   "id": "b7d437a1",
   "metadata": {},
   "source": [
    "In pandas, a DataFrame is a two-dimensional labeled data structure, similar to a table in a relational database or an Excel spreadsheet. It is a fundamental data structure for data manipulation and analysis in Python. A DataFrame consists of rows and columns, where each column can be thought of as a pandas Series.\n",
    "\n",
    "A pandas Series, on the other hand, is a one-dimensional labeled array-like data structure. It's similar to a single column of a DataFrame, and it can hold data of various types (numeric, string, etc.) with associated labels (index)."
   ]
  },
  {
   "cell_type": "markdown",
   "id": "092bc98c",
   "metadata": {},
   "source": [
    "## DataFrame Example:\n",
    "Suppose you have data about students, including their names, ages, and scores in two subjects, Math and English. You can create a DataFrame to store this data:"
   ]
  },
  {
   "cell_type": "code",
   "execution_count": 11,
   "id": "a0de08e3",
   "metadata": {},
   "outputs": [
    {
     "name": "stdout",
     "output_type": "stream",
     "text": [
      "      Name  Age  Math_Score  English_Score\n",
      "0    Alice   25          90             80\n",
      "1      Bob   22          85             75\n",
      "2  Charlie   23          78             88\n",
      "3    David   21          92             95\n"
     ]
    }
   ],
   "source": [
    "data = {\n",
    "    'Name': ['Alice', 'Bob', 'Charlie', 'David'],\n",
    "    'Age': [25, 22, 23, 21],\n",
    "    'Math_Score': [90, 85, 78, 92],\n",
    "    'English_Score': [80, 75, 88, 95]\n",
    "}\n",
    "\n",
    "df = pd.DataFrame(data)\n",
    "print(df)"
   ]
  },
  {
   "cell_type": "markdown",
   "id": "a7e3dd79",
   "metadata": {},
   "source": [
    "## Series Example:\n",
    "Now, let's consider a specific column from the DataFrame, for example, the \"Age\" column:"
   ]
  },
  {
   "cell_type": "code",
   "execution_count": 12,
   "id": "6b4f91ab",
   "metadata": {},
   "outputs": [
    {
     "name": "stdout",
     "output_type": "stream",
     "text": [
      "0    25\n",
      "1    22\n",
      "2    23\n",
      "3    21\n",
      "Name: Age, dtype: int64\n"
     ]
    }
   ],
   "source": [
    "age_series = df['Age']\n",
    "print(age_series)"
   ]
  },
  {
   "cell_type": "markdown",
   "id": "1fdb92e0",
   "metadata": {},
   "source": [
    "## Q5. What are some common functions you can use to manipulate data in a Pandas DataFrame? Can you give an example of when you might use one of these functions?"
   ]
  },
  {
   "cell_type": "code",
   "execution_count": null,
   "id": "40fa5386",
   "metadata": {},
   "outputs": [],
   "source": [
    "# Pandas provides a wide range of functions to manipulate data within a DataFrame. Here are some common functions you can use:\n",
    "\n",
    "#head() and tail():\n",
    "#head(n): Returns the first n rows of the DataFrame.\n",
    "#tail(n): Returns the last n rows of the DataFrame.\n",
    " \n",
    "df.head(5)  # Returns the first 5 rows\n",
    "df.tail(3)  # Returns the last 3 rows\n",
    "\n",
    "#describe():\n",
    "#Provides summary statistics of the DataFrame's numeric columns.\n",
    "\n",
    "df.describe()  # Generates statistics like mean, min, max, etc.\n",
    "#info():\n",
    "\n",
    "#Displays information about the DataFrame, including data types and non-null counts.\n",
    "\n",
    "df.info()# Provides information about DataFrame columns\n",
    "\n",
    "#shape:\n",
    "#Returns the number of rows and columns as a tuple.\n",
    "rows, cols = df.shape\n",
    "\n",
    "#loc[] and iloc[]:\n",
    "#loc[]: Accesses data by label (row and column names).\n",
    "#iloc[]: Accesses data by integer-based indexing.\n",
    "df.loc[0]  # Accesses the first row of the DataFrame\n",
    "df.iloc[:, 2]  # Accesses the third column of the DataFrame\n",
    "\n",
    "\n",
    "#drop():\n",
    "#Removes specified rows or columns from the DataFrame.\n",
    "\n",
    "df.drop([0, 2])  # Drops rows with index 0 and 2\n",
    "df.drop('column_name', axis=1)  # Drops the specified column\n",
    "\n",
    "#groupby():\n",
    "#Groups data based on specified columns and allows aggregation operations.\n",
    "df.groupby('category')['value'].mean()  # Computes the mean of 'value' for each 'category'\n",
    "\n",
    "#sort_values():\n",
    "#Sorts the DataFrame by specified columns.\n",
    "df.sort_values('column_name', ascending=False)  # Sorts the DataFrame by 'column_name' in descending order\n",
    "\n",
    "#pivot_table():\n",
    "#Creates a pivot table to summarize and aggregate data.\n",
    "\n",
    "pivot_table = df.pivot_table(index='category', values='value', aggfunc='mean')\n",
    "\n",
    "#fillna():\n",
    "#Fills missing values with specified values or methods.\n",
    "\n",
    "df.fillna(0)  # Fills missing values with 0\n",
    "df.fillna(method='ffill')  # Fills missing values with the previous value (forward fill)\n"
   ]
  },
  {
   "cell_type": "markdown",
   "id": "4a9503a6",
   "metadata": {},
   "source": [
    "These are just a few of the many functions available in Pandas for data manipulation. You might use these functions in various scenarios, such as data preprocessing, exploratory data analysis, cleaning missing values, summarizing data, and creating derived features. For example, the groupby() function could be used to analyze sales data by different product categories, and the pivot_table() function could be used to create a summary table for further analysis."
   ]
  },
  {
   "cell_type": "markdown",
   "id": "ea326e58",
   "metadata": {},
   "source": [
    "## Q6. Which of the following is mutable in nature Series, DataFrame, Panel?\n",
    "Among the options provided (Series, DataFrame, Panel), both Series and DataFrame are mutable in nature in the context of pandas.\n",
    "\n",
    "Series: A pandas Series is mutable because you can change the values of elements within the Series after its creation. For example, you can assign new values to specific indices in a Series.\n",
    "\n",
    "DataFrame: A pandas DataFrame is also mutable. You can modify the values of individual cells, add or remove columns, and perform various data manipulation operations on a DataFrame.\n",
    "\n",
    "However, it's worth noting that the Panel data structure in pandas has been deprecated since version 0.25.0, and it's no longer recommended for use. Instead, you should use MultiIndex DataFrames or the pd.Panel.to_frame() function to convert Panels to DataFrames for modern pandas versions. Panels were not as widely used as Series and DataFrames and have been largely replaced by other data structures and techniques."
   ]
  },
  {
   "cell_type": "markdown",
   "id": "33d9eb2a",
   "metadata": {},
   "source": [
    "## Q7. Create a DataFrame using multiple Series. Explain with an example.\n",
    "You can create a DataFrame using multiple Series by combining those Series into a dictionary and then passing the dictionary to the pd.DataFrame() constructor. Each Series will correspond to a column in the DataFrame. Here's an example:"
   ]
  },
  {
   "cell_type": "code",
   "execution_count": 14,
   "id": "144dd5bc",
   "metadata": {},
   "outputs": [
    {
     "name": "stdout",
     "output_type": "stream",
     "text": [
      "      Name  Age  Math_Score\n",
      "0    Alice   25          90\n",
      "1      Bob   22          85\n",
      "2  Charlie   23          78\n",
      "3    David   21          92\n"
     ]
    }
   ],
   "source": [
    "Name_1=pd.Series(['Alice', 'Bob', 'Charlie', 'David'])\n",
    "age = pd.Series([25, 22, 23, 21])\n",
    "math_score = pd.Series([90, 85, 78, 92])\n",
    "data = {\n",
    "    'Name': Name_1,\n",
    "    'Age': age,\n",
    "    'Math_Score': math_score,\n",
    "}\n",
    "\n",
    "df = pd.DataFrame(data)\n",
    "print(df)"
   ]
  },
  {
   "cell_type": "markdown",
   "id": "b520ab2f",
   "metadata": {},
   "source": [
    "In this example, individual Series (names, ages, math_scores) are created to hold data for different columns of the DataFrame. These Series are then combined into a dictionary named data, where the keys of the dictionary represent column names, and the values are the corresponding Series. Finally, the pd.DataFrame(data) constructor creates a DataFrame with columns \"Name\", \"Age\", \"Math_Score\"."
   ]
  },
  {
   "cell_type": "code",
   "execution_count": null,
   "id": "59753fc4",
   "metadata": {},
   "outputs": [],
   "source": []
  }
 ],
 "metadata": {
  "kernelspec": {
   "display_name": "Python 3 (ipykernel)",
   "language": "python",
   "name": "python3"
  },
  "language_info": {
   "codemirror_mode": {
    "name": "ipython",
    "version": 3
   },
   "file_extension": ".py",
   "mimetype": "text/x-python",
   "name": "python",
   "nbconvert_exporter": "python",
   "pygments_lexer": "ipython3",
   "version": "3.10.9"
  }
 },
 "nbformat": 4,
 "nbformat_minor": 5
}
