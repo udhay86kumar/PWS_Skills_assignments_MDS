{
 "cells": [
  {
   "cell_type": "markdown",
   "id": "d0acfde6",
   "metadata": {},
   "source": [
    "## Que 1: Name any five plots that we can plot using the Seaborn library. Also, state the uses of each plot.\n",
    "Seaborn is a Python data visualization library built on top of Matplotlib. It provides a higher-level interface for creating attractive and informative statistical graphics. Seaborn simplifies the process of creating complex visualizations, and it offers several types of plots to effectively explore and communicate patterns in your data. Here are five plots that you can create using Seaborn, along with their typical use cases:\n",
    "\n",
    "Histograms:\n",
    "\n",
    "Use: Histograms are used to visualize the distribution of a single variable. They show the frequency or count of data points that fall within specified intervals, or \"bins.\"\n",
    "Purpose: Understanding the underlying distribution, identifying modes and potential outliers, and assessing data skewness.\n",
    "Scatter Plots:\n",
    "\n",
    "Use: Scatter plots display individual data points as points in a 2D space. They're used to explore relationships between two continuous variables and to identify patterns, clusters, and correlations.\n",
    "Purpose: Investigating the strength and nature of relationships between variables, assessing data dispersion, and identifying potential outliers.\n",
    "Bar Plots:\n",
    "\n",
    "Use: Bar plots are used to compare categorical data by showing the frequency, count, or percentage of different categories. They can be vertical or horizontal.\n",
    "Purpose: Comparing distributions of categorical data, visualizing frequencies, and identifying trends or differences across categories.\n",
    "Box Plots (Box-and-Whisker Plots):\n",
    "\n",
    "Use: Box plots provide a visual summary of the distribution of data, including quartiles, median, and potential outliers. They're useful for comparing distributions and identifying extreme values.\n",
    "Purpose: Understanding the spread and shape of data distributions, comparing distributions across groups, and identifying outliers.\n",
    "Heatmaps:\n",
    "\n",
    "Use: Heatmaps are used to display a matrix-like dataset as a grid of colored cells, where colors represent the values. They're particularly useful for visualizing correlation matrices or matrices with numerical values.\n",
    "Purpose: Visualizing relationships between multiple variables, identifying patterns or clusters in large datasets, and exploring correlations."
   ]
  },
  {
   "cell_type": "markdown",
   "id": "7321afce",
   "metadata": {},
   "source": [
    "## Que 2: Load the \"fmri\" dataset using the load_dataset function of seaborn. Plot a line plot using x =\"timepoint\" and y = \"signal\" for different events and regions."
   ]
  },
  {
   "cell_type": "code",
   "execution_count": 1,
   "id": "2769155a",
   "metadata": {},
   "outputs": [],
   "source": [
    "import seaborn as sns"
   ]
  },
  {
   "cell_type": "code",
   "execution_count": null,
   "id": "b71ee73f",
   "metadata": {},
   "outputs": [],
   "source": [
    "data = sns.load_dataset()"
   ]
  },
  {
   "cell_type": "code",
   "execution_count": null,
   "id": "d6deff36",
   "metadata": {},
   "outputs": [],
   "source": []
  },
  {
   "cell_type": "code",
   "execution_count": null,
   "id": "7f0de9db",
   "metadata": {},
   "outputs": [],
   "source": []
  },
  {
   "cell_type": "code",
   "execution_count": null,
   "id": "eae36f94",
   "metadata": {},
   "outputs": [],
   "source": []
  }
 ],
 "metadata": {
  "kernelspec": {
   "display_name": "Python 3 (ipykernel)",
   "language": "python",
   "name": "python3"
  },
  "language_info": {
   "codemirror_mode": {
    "name": "ipython",
    "version": 3
   },
   "file_extension": ".py",
   "mimetype": "text/x-python",
   "name": "python",
   "nbconvert_exporter": "python",
   "pygments_lexer": "ipython3",
   "version": "3.10.9"
  }
 },
 "nbformat": 4,
 "nbformat_minor": 5
}
