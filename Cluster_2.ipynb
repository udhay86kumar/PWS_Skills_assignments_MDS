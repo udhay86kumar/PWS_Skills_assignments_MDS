{
 "cells": [
  {
   "cell_type": "markdown",
   "id": "57e4843d-a0c6-4f49-a901-9a1547d9dd66",
   "metadata": {},
   "source": [
    "# Question 1: What is hierarchical clustering, and how is it different from other clustering techniques?\n",
    "\"\"\"\n",
    "Hierarchical clustering is a clustering technique that builds a hierarchy of clusters using either a bottom-up (agglomerative) or top-down (divisive) approach. Unlike K-Means, hierarchical clustering does not require specifying the number of clusters in advance and produces a dendrogram that helps determine the optimal clusters.\n",
    "\"\"\"\n",
    "\n",
    "# Question 2: What are the two main types of hierarchical clustering algorithms? Describe each in brief.\n",
    "\"\"\"\n",
    "1. **Agglomerative Hierarchical Clustering**: Starts with each data point as a single cluster and merges the closest clusters iteratively until only one cluster remains.\n",
    "2. **Divisive Hierarchical Clustering**: Starts with all data points in one cluster and recursively splits them into smaller clusters.\n",
    "\"\"\"\n",
    "\n",
    "# Question 3: How do you determine the distance between two clusters in hierarchical clustering, and what are the common distance metrics used?\n",
    "\"\"\"\n",
    "Common linkage methods to determine the distance between clusters:\n",
    "- **Single Linkage**: Uses the minimum distance between points in two clusters.\n",
    "- **Complete Linkage**: Uses the maximum distance between points in two clusters.\n",
    "- **Average Linkage**: Uses the average distance between all pairs of points in two clusters.\n",
    "- **Centroid Linkage**: Uses the distance between centroids of clusters.\n",
    "\n",
    "Common distance metrics:\n",
    "- **Euclidean Distance** (most commonly used)\n",
    "- **Manhattan Distance**\n",
    "- **Cosine Similarity**\n",
    "\"\"\"\n",
    "\n",
    "# Question 4: How do you determine the optimal number of clusters in hierarchical clustering, and what are some common methods used for this purpose?\n",
    "\"\"\"\n",
    "- **Dendrogram Analysis**: Cutting the dendrogram at an appropriate level.\n",
    "- **Silhouette Score**: Measures how well each point fits within its assigned cluster.\n",
    "- **Elbow Method**: Plots within-cluster variance to find an optimal cutoff.\n",
    "\"\"\"\n",
    "\n",
    "# Question 5: What are dendrograms in hierarchical clustering, and how are they useful in analyzing the results?\n",
    "\"\"\"\n",
    "A dendrogram is a tree-like diagram that represents the merging process in hierarchical clustering. It helps in:\n",
    "- Visualizing cluster merging.\n",
    "- Identifying the optimal number of clusters.\n",
    "- Understanding relationships between data points.\n",
    "\"\"\"\n",
    "\n",
    "# Question 6: Can hierarchical clustering be used for both numerical and categorical data? If yes, how are the distance metrics different for each type of data?\n",
    "\"\"\"\n",
    "Yes, hierarchical clustering can be applied to both numerical and categorical data.\n",
    "- **Numerical Data**: Uses Euclidean, Manhattan, or Minkowski distances.\n",
    "- **Categorical Data**: Uses Hamming distance, Jaccard similarity, or Gower distance.\n",
    "\"\"\"\n",
    "\n",
    "# Question 7: How can you use hierarchical clustering to identify outliers or anomalies in your data?\n",
    "\"\"\"\n",
    "- **Look for singleton clusters**: Outliers often appear as separate clusters at the bottom of the dendrogram.\n",
    "- **Check cluster distances**: Large distances between clusters may indicate anomalies.\n",
    "- **Analyze inconsistent merging**: Sudden large jumps in merging distances may indicate outliers.\n",
    "\"\"\""
   ]
  },
  {
   "cell_type": "code",
   "execution_count": 2,
   "id": "4629c637-6274-4263-bb60-13a03c467888",
   "metadata": {},
   "outputs": [
    {
     "data": {
      "image/png": "[encoded data removed]",
      "text/plain": [
       "<Figure size 800x500 with 1 Axes>"
      ]
     },
     "metadata": {},
     "output_type": "display_data"
    },
    {
     "ename": "TypeError",
     "evalue": "AgglomerativeClustering.__init__() got an unexpected keyword argument 'affinity'",
     "output_type": "error",
     "traceback": [
      "\u001b[1;31m---------------------------------------------------------------------------\u001b[0m",
      "\u001b[1;31mTypeError\u001b[0m                                 Traceback (most recent call last)",
      "Cell \u001b[1;32mIn[2], line 27\u001b[0m\n\u001b[0;32m     24\u001b[0m plt\u001b[38;5;241m.\u001b[39mshow()\n\u001b[0;32m     26\u001b[0m \u001b[38;5;66;03m# Apply Agglomerative Clustering\u001b[39;00m\n\u001b[1;32m---> 27\u001b[0m hc \u001b[38;5;241m=\u001b[39m AgglomerativeClustering(n_clusters\u001b[38;5;241m=\u001b[39m\u001b[38;5;241m3\u001b[39m, affinity\u001b[38;5;241m=\u001b[39m\u001b[38;5;124m'\u001b[39m\u001b[38;5;124meuclidean\u001b[39m\u001b[38;5;124m'\u001b[39m, linkage\u001b[38;5;241m=\u001b[39m\u001b[38;5;124m'\u001b[39m\u001b[38;5;124mward\u001b[39m\u001b[38;5;124m'\u001b[39m)\n\u001b[0;32m     28\u001b[0m y_hc \u001b[38;5;241m=\u001b[39m hc\u001b[38;5;241m.\u001b[39mfit_predict(X_scaled)\n\u001b[0;32m     30\u001b[0m \u001b[38;5;66;03m# Scatter plot of clusters\u001b[39;00m\n",
      "\u001b[1;31mTypeError\u001b[0m: AgglomerativeClustering.__init__() got an unexpected keyword argument 'affinity'"
     ]
    }
   ],
   "source": [
    "# Example: Implementing Hierarchical Clustering in Python\n",
    "\n",
    "import numpy as np\n",
    "import pandas as pd\n",
    "import matplotlib.pyplot as plt\n",
    "import scipy.cluster.hierarchy as sch\n",
    "from sklearn.cluster import AgglomerativeClustering\n",
    "from sklearn.preprocessing import StandardScaler\n",
    "\n",
    "# Generate sample data\n",
    "np.random.seed(42)\n",
    "X = np.random.rand(10, 2) * 10  # 10 points in 2D space\n",
    "\n",
    "# Scale data\n",
    "scaler = StandardScaler()\n",
    "X_scaled = scaler.fit_transform(X)\n",
    "\n",
    "# Create dendrogram\n",
    "plt.figure(figsize=(8, 5))\n",
    "dendrogram = sch.dendrogram(sch.linkage(X_scaled, method='ward'))\n",
    "plt.title('Dendrogram')\n",
    "plt.xlabel('Data Points')\n",
    "plt.ylabel('Euclidean Distance')\n",
    "plt.show()\n",
    "\n",
    "# Apply Agglomerative Clustering\n",
    "hc = AgglomerativeClustering(n_clusters=3, affinity='euclidean', linkage='ward')\n",
    "y_hc = hc.fit_predict(X_scaled)\n",
    "\n",
    "# Scatter plot of clusters\n",
    "plt.scatter(X[:, 0], X[:, 1], c=y_hc, cmap='rainbow', edgecolors='k')\n",
    "plt.title('Hierarchical Clustering Results')\n",
    "plt.xlabel('Feature 1')\n",
    "plt.ylabel('Feature 2')\n",
    "plt.show()"
   ]
  },
  {
   "cell_type": "code",
   "execution_count": null,
   "id": "02fea2bb-90cf-4529-a0a0-8dcf8a32625e",
   "metadata": {},
   "outputs": [],
   "source": []
  },
  {
   "cell_type": "code",
   "execution_count": null,
   "id": "4656c402-0c11-4cbc-947f-86e87b58ed04",
   "metadata": {},
   "outputs": [],
   "source": []
  }
 ],
 "metadata": {
  "kernelspec": {
   "display_name": "Python 3 (ipykernel)",
   "language": "python",
   "name": "python3"
  },
  "language_info": {
   "codemirror_mode": {
    "name": "ipython",
    "version": 3
   },
   "file_extension": ".py",
   "mimetype": "text/x-python",
   "name": "python",
   "nbconvert_exporter": "python",
   "pygments_lexer": "ipython3",
   "version": "3.12.4"
  }
 },
 "nbformat": 4,
 "nbformat_minor": 5
}
